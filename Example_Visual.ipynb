{
 "cells": [
  {
   "cell_type": "markdown",
   "id": "a09f20c9-64c9-4faa-8526-aa6c24e1a249",
   "metadata": {},
   "source": [
    "# Visualisation // Animation"
   ]
  },
  {
   "cell_type": "code",
   "execution_count": 63,
   "id": "abd3b9bb-9829-4b38-ad3d-5c4fe8368fe9",
   "metadata": {},
   "outputs": [
    {
     "data": {
      "application/vnd.jupyter.widget-view+json": {
       "model_id": "db9ba95d787f46d2ad33d0a4d95fd0e9",
       "version_major": 2,
       "version_minor": 0
      },
      "text/plain": [
       "interactive(children=(IntSlider(value=1, description='Iteration:', max=587), Output()), _dom_classes=('widget-…"
      ]
     },
     "metadata": {},
     "output_type": "display_data"
    },
    {
     "data": {
      "text/plain": [
       "<function __main__.plot_iteration(iteration=0)>"
      ]
     },
     "execution_count": 63,
     "metadata": {},
     "output_type": "execute_result"
    }
   ],
   "source": [
    "import numpy as np\n",
    "import matplotlib.pyplot as plt\n",
    "import h5py\n",
    "from scipy.interpolate import interp1d\n",
    "from matplotlib import colors, cm\n",
    "from ipywidgets import interact, IntSlider\n",
    "import ipywidgets as widgets\n",
    "import matplotlib.colors as mcolors\n",
    "\n",
    "def get_xy(x, y, yparity=1):   # this function returns arrays in range (-r_max, ..., r_max))\n",
    "    newlen = len(x)*2\n",
    "    new_x = np.zeros(newlen)\n",
    "    new_y = np.zeros(newlen)\n",
    "    \n",
    "    new_x[:newlen//2] = -x[::-1]\n",
    "    new_x[newlen//2:] = x\n",
    "    new_y[:newlen//2] = yparity * y[::-1]\n",
    "    new_y[newlen//2:] = y\n",
    "    \n",
    "    return new_x, new_y\n",
    "\n",
    "# Parameters\n",
    "matter = 'rad'\n",
    "mu = 0.8\n",
    "fn = f'./DPV_{str(matter)}/visdata_{mu:.3f}.hdf5'\n",
    "\n",
    "# Load data\n",
    "with h5py.File(fn, 'r') as f:\n",
    "    r = f['r'][:]\n",
    "    t = f['t'][:]\n",
    "    M = f['M'][:]\n",
    "    R = f['R'][:]\n",
    "    drho = f['drho'][:]\n",
    "    Theta = f['Theta'][:]\n",
    "\n",
    "rmax = np.max(r) * np.sin(np.pi/4)  \n",
    "zmin, zmax = [1e-1, 1e1]\n",
    "N_iterations = len(drho)\n",
    "\n",
    "# Precompute the grid once\n",
    "rcord = np.linspace(-rmax, rmax, 2000)\n",
    "X, Y = np.meshgrid(rcord, rcord)\n",
    "_rad = (X**2 + Y**2)**0.5\n",
    "\n",
    "\n",
    "\n",
    "# Interactive function\n",
    "def plot_iteration(iteration=0):\n",
    "    # Create the figure\n",
    "    fig, ax = plt.subplots(1, 1, figsize=(5, 4))\n",
    "\n",
    "\n",
    "    # rho /rho_bkg\n",
    "    x = r\n",
    "    y = drho[iteration]\n",
    "    x,y = get_xy(x, y) \n",
    "    \n",
    "    zmin, zmax = [1e-1, 1e1]\n",
    "    drho_intp = interp1d(x, y, kind='quadratic')\n",
    "    rcord = np.linspace(-rmax, rmax, 1000)\n",
    "    X, Y = np.meshgrid(rcord,rcord)\n",
    "    _rad = (X**2+Y**2)**0.5\n",
    "    Z = drho_intp(_rad)    \n",
    "    \n",
    "    cs = ax.pcolormesh(X, Y, Z,  cmap=cm.seismic, norm=colors.LogNorm(vmin=zmin, vmax=zmax))\n",
    "    \n",
    "    # colobars\n",
    "    cbaxes = fig.add_axes([0.05, 0.25, 0.05, 0.45]) \n",
    "    cb = plt.colorbar(cs, cax = cbaxes)\n",
    "    cbaxes.yaxis.set_ticks_position('left')\n",
    "    cbaxes.yaxis.set_label_position('left')\n",
    "    cbaxes.set_ylabel(r\"$\\frac{\\rho_E}{\\rho_{\\rm bkg} }$\")\n",
    "    ax.set_yticks([])\n",
    "\n",
    "\n",
    "    if True:\n",
    "        ## Trapped regions ( > Hubble Rad and boundary AH-PBH) \n",
    "        x = r\n",
    "        crit = 2*M/R\n",
    "        y = crit[iteration]\n",
    "        x,y = get_xy(x, y) \n",
    "    \n",
    "        zmin, zmax = [1e-1, 1e1]\n",
    "        crit_intp = interp1d(x, y, kind='quadratic')\n",
    "        rcord = np.linspace(-rmax, rmax, 1000)\n",
    "        X, Y = np.meshgrid(rcord,rcord)\n",
    "        _rad = (X**2+Y**2)**0.5\n",
    "        Z = crit_intp(_rad)\n",
    "        \n",
    "        mask = (Z<1) \n",
    "        Z[mask] = np.nan\n",
    "    \n",
    "        colors_list = ['green']  # transparent, then black\n",
    "        cmap = mcolors.ListedColormap(colors_list)\n",
    "        bounds = [0, 1]\n",
    "        norm = mcolors.BoundaryNorm(bounds, cmap.N)\n",
    "        cs = ax.pcolormesh(X, Y, Z, cmap=cmap, norm=norm, alpha = 0.5)\n",
    "\n",
    "    plt.show()\n",
    "\n",
    "# Create interactive widget\n",
    "interact(plot_iteration, \n",
    "         iteration=IntSlider(min=0, max=N_iterations-1, step=1, value=1, \n",
    "                           description='Iteration:', continuous_update=True))"
   ]
  },
  {
   "cell_type": "code",
   "execution_count": null,
   "id": "7c2eceff-9a69-43b2-bbdf-60822ce3f72d",
   "metadata": {},
   "outputs": [],
   "source": []
  }
 ],
 "metadata": {
  "kernelspec": {
   "display_name": "Python 3 (ipykernel)",
   "language": "python",
   "name": "python3"
  },
  "language_info": {
   "codemirror_mode": {
    "name": "ipython",
    "version": 3
   },
   "file_extension": ".py",
   "mimetype": "text/x-python",
   "name": "python",
   "nbconvert_exporter": "python",
   "pygments_lexer": "ipython3",
   "version": "3.11.5"
  }
 },
 "nbformat": 4,
 "nbformat_minor": 5
}
